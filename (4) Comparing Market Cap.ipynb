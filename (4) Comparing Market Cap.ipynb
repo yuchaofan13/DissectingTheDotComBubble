{
 "cells": [
  {
   "cell_type": "code",
   "execution_count": 2,
   "id": "3777bb41",
   "metadata": {},
   "outputs": [],
   "source": [
    "import numpy as np\n",
    "import pandas as pd\n",
    "from IPython.display import clear_output\n",
    "import plotly.express as px"
   ]
  },
  {
   "cell_type": "markdown",
   "id": "e57a1ee8",
   "metadata": {},
   "source": [
    "Couldn't get accurate constituents from Compustat (none for nasdaq composite at all, only from 1995 onwards for NASDAQ100). also can't get index fundamentals from compustat for either.\n",
    "Below: some basic extra cleaning. Previously I had removed gaps in the price series and checked for exchange consistency.\n"
   ]
  },
  {
   "cell_type": "markdown",
   "id": "04693ce9",
   "metadata": {},
   "source": [
    "Getting dataframe ready for stata exuberance testing."
   ]
  },
  {
   "cell_type": "code",
   "execution_count": null,
   "id": "01de2775",
   "metadata": {},
   "outputs": [],
   "source": [
    "df1 = pd.read_csv(r\"C:\\Users\\Administrator.LAPTOP-3KUBTES6\\Documents\\Dissertation Sandbox v4\\fcfe_1.csv\")\n",
    "df2 = pd.read_csv(r\"C:\\Users\\Administrator.LAPTOP-3KUBTES6\\Documents\\Dissertation Sandbox v4\\fcfe_2.csv\")\n",
    "df3 = pd.read_csv(r\"C:\\Users\\Administrator.LAPTOP-3KUBTES6\\Documents\\Dissertation Sandbox v4\\net income.csv\")\n",
    "df4 = pd.read_csv(r\"C:\\Users\\Administrator.LAPTOP-3KUBTES6\\Documents\\Dissertation Sandbox v4\\compustat cleaned base.csv\")\n",
    "df5 = pd.read_csv(r\"C:\\Users\\Administrator.LAPTOP-3KUBTES6\\Documents\\Dissertation Sandbox v4\\pays_dividends.csv\")\n",
    "df1[\"Date\"]=pd.to_datetime(df1[\"Date\"], format='%Y-%m-%d')\n",
    "df2[\"Date\"]=pd.to_datetime(df2[\"Date\"], format='%Y-%m-%d')\n",
    "df3[\"Date\"]=pd.to_datetime(df3[\"Date\"], format='%Y-%m-%d')\n",
    "df4[\"Date\"]=pd.to_datetime(df4[\"Date\"], format='%Y-%m-%d')\n",
    "df5[\"Date\"]=pd.to_datetime(df5[\"Date\"], format='%Y-%m-%d')\n",
    "\n",
    "#compustat cleaned earnings, market cap is the fully cleaned data that has all net income observations (but may be missing fcfe)"
   ]
  },
  {
   "cell_type": "code",
   "execution_count": null,
   "id": "67bbff4b",
   "metadata": {},
   "outputs": [],
   "source": [
    "\n",
    "dates = pd.date_range('30/06/1983','30/06/2005',freq = 'Q')\n",
    "market = pd.DataFrame({\"Date\":dates,\"FCFE_1 data available\":np.zeros(len(dates)),\"FCFE_2 data available\":np.zeros(len(dates)),\n",
    "                       \"Net income data available\":np.zeros(len(dates)),\"Baseline data\": np.zeros(len(dates)),\"Dividend data available\": np.zeros(len(dates))\n",
    "                      })\n",
    "\n",
    "\n",
    "for date, group in df1.groupby(\"Date\"):\n",
    "     market.loc[market.Date ==date,\"FCFE_1 data available\"] = group[\"Market Cap\"].sum()*1000000\n",
    "    # total nasdaq market cap at this date\n",
    "\n",
    "for date, group in df2.groupby(\"Date\"):\n",
    "     market.loc[market.Date ==date,\"FCFE_2 data available\"] = group[\"Market Cap\"].sum()*1000000\n",
    "\n",
    "for date, group in df3.groupby(\"Date\"):\n",
    "     market.loc[market.Date ==date,\"Net income data available\"] = group[\"Market Cap\"].sum()*1000000\n",
    "for date, group in df4.groupby(\"Date\"):\n",
    "     market.loc[market.Date ==date,\"Baseline data\"] = group[\"Market Cap\"].sum()*1000000\n",
    "for date, group in df5.groupby(\"Date\"):\n",
    "     market.loc[market.Date ==date,\"Dividend data available\"] = group[\"Market Cap\"].sum()*1000000\n",
    "    \n",
    "fig = px.line(market,x=\"Date\",y=[\"Baseline data\",\"Net income data available\",\"FCFE_2 data available\",\"FCFE_1 data available\",\"Dividend data available\"])\n",
    "\n",
    "\n",
    "fig.update_layout(title=\"Total Market Cap for NASDAQ stocks\",xaxis_title = \"Date\",\n",
    "yaxis_title = \"Total Market Cap (USD)\")\n",
    "fig.update_layout(legend={'title_text':'Data Quality'})\n",
    "# add multiple lines\n",
    "fig.show()\n",
    "\n"
   ]
  }
 ],
 "metadata": {
  "kernelspec": {
   "display_name": "Python 3 (ipykernel)",
   "language": "python",
   "name": "python3"
  },
  "language_info": {
   "codemirror_mode": {
    "name": "ipython",
    "version": 3
   },
   "file_extension": ".py",
   "mimetype": "text/x-python",
   "name": "python",
   "nbconvert_exporter": "python",
   "pygments_lexer": "ipython3",
   "version": "3.9.12"
  }
 },
 "nbformat": 4,
 "nbformat_minor": 5
}
