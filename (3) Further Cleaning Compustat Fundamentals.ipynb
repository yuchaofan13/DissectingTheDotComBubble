{
 "cells": [
  {
   "cell_type": "code",
   "execution_count": 1,
   "id": "f06dcb6e",
   "metadata": {},
   "outputs": [],
   "source": [
    "import numpy as np\n",
    "import pandas as pd\n",
    "from IPython.display import clear_output"
   ]
  },
  {
   "cell_type": "code",
   "execution_count": null,
   "id": "f672a813",
   "metadata": {},
   "outputs": [],
   "source": [
    "df = pd.read_csv(r\"compustat cleaned base.csv\")\n",
    "df[\"Date\"]=pd.to_datetime(df[\"Date\"], format='%Y-%m-%d')"
   ]
  },
  {
   "cell_type": "markdown",
   "id": "2bb0960d",
   "metadata": {},
   "source": [
    "Adjust the section below based on which FCFE I'm using."
   ]
  },
  {
   "cell_type": "code",
   "execution_count": 3,
   "id": "86b2d8ac",
   "metadata": {},
   "outputs": [],
   "source": [
    "df.drop(columns = ['fqtr', 'Cash and Short Term Investments',\n",
    "       'Debt in Current Liabilities',\n",
    "       'Total Long Term Debt', 'Depreciation and Amortisation',\n",
    "       'Preferred Dividends','Working Capital', 'Long Term Debt Issuance',\n",
    "       'Long Term Debt Reduction', 'Change in Current Debt',\n",
    "       'Capital Expenditures', 'Net Borrowing','Acquisitions','Total Shares Repurchased',\n",
    "       'Change in Long Term Debt v2', 'Net Borrowing v2', 'NCWC', 'R&D Expenses',\n",
    "       'Change in NCWC'],inplace = True)"
   ]
  },
  {
   "cell_type": "markdown",
   "id": "24ebd0af",
   "metadata": {},
   "source": [
    "^This creates gaps which I thus need to test for again."
   ]
  },
  {
   "cell_type": "code",
   "execution_count": 5,
   "id": "d8212c80",
   "metadata": {},
   "outputs": [
    {
     "name": "stdout",
     "output_type": "stream",
     "text": [
      "8661 / 8661\n"
     ]
    }
   ],
   "source": [
    "# removing gaps\n",
    "df[\"Adjusted_LPERMNO2\"]=df[\"Adjusted_LPERMNO\"].astype(str)\n",
    "\n",
    "length = len(df[\"Adjusted_LPERMNO\"].unique())\n",
    "counter = 0\n",
    "for permno, group in df.groupby(\"Adjusted_LPERMNO\"):\n",
    "    \n",
    "    clear_output(wait=True)\n",
    "    \n",
    "    indices = list(group.index)\n",
    "    dates =list(group[\"Date\"])\n",
    "    expected_dates = list(pd.date_range(group[\"Date\"].min(),group[\"Date\"].max(),freq=\"Q\"))\n",
    "    # don't need to worry about offsetting to the end of the quarter here\n",
    "    # because the start and end points are already offset.\n",
    "    \n",
    "    if len(dates)!= len(expected_dates):\n",
    "        \n",
    "        start = 0\n",
    "        marker = 0\n",
    "        for i in range(len(dates)-1):\n",
    "            \n",
    "            \n",
    "            if (dates[i+1]-dates[i]).days>92: \n",
    "                # max 92 days in a quarter\n",
    "                # if this condition is met\n",
    "                # then between indices i+1 and i there is a break.'\n",
    "                \n",
    "                if i- start>7:\n",
    "                    \n",
    "                    # so the current segment goes from index 'start' to index i.\n",
    "                    # minimum segment length is 9, so the difference >=8 i.e. >7.\n",
    "                    df.loc[indices[start:i+1],\"Adjusted_LPERMNO2\"]+= str(marker)\n",
    "                    marker+=1\n",
    "                    # every time we get a new usable series segment, marker increments.\n",
    "                    \n",
    "                    # remember, everything is already sorted\n",
    "                    # e.g. 10001 is split into 100010, 100011\n",
    "                \n",
    "                else:\n",
    "                    #s egment not long enough, so drop\n",
    "                    df.drop(indices[start:i+1], inplace=True)\n",
    "                    # both loc and drop take index arguments as opposed to iloc which takes positional arguments.\n",
    "                    \n",
    "                start = i+1\n",
    "                # increment 'start' (as an index of 'dates') for the next segment\n",
    "                \n",
    "    counter+=1\n",
    "    print(counter,\"/\",length)\n",
    "    \n",
    "# If there is a break between the penultimate and final values, the script doesn't do anything to the final value.\n",
    "# Hence I apply this:\n",
    "df = df.groupby([\"Adjusted_LPERMNO2\"]).filter(lambda x: len(x) > 8)\n",
    "df.drop(\"Adjusted_LPERMNO\",axis=1,inplace=True)\n",
    "df=df.rename(columns={\"Adjusted_LPERMNO2\":\"Adjusted_LPERMNO\"})\n",
    "df = df.reset_index(drop = True)"
   ]
  },
  {
   "cell_type": "markdown",
   "id": "8f374df6",
   "metadata": {},
   "source": [
    "Interpolating gaps for common shares outstanding to calculate market cap."
   ]
  },
  {
   "cell_type": "code",
   "execution_count": 7,
   "id": "733335d2",
   "metadata": {},
   "outputs": [
    {
     "name": "stdout",
     "output_type": "stream",
     "text": [
      "6163 / 6163\n"
     ]
    }
   ],
   "source": [
    "i = 0\n",
    "length = len(df[\"LPERMNO\"].unique())\n",
    "for permno, group in df.groupby(\"LPERMNO\"):\n",
    "    \n",
    "    clear_output(wait=True)\n",
    "    \n",
    "    if (group[\"Common Shares Outstanding\"].isna()).all():\n",
    "        df.drop(group.index, inplace= True)\n",
    "    elif (group[\"Common Shares Outstanding\"].notna()).all():\n",
    "        pass\n",
    "    else:\n",
    "        group[\"Common Shares Outstanding\"] = group[\"Common Shares Outstanding\"].interpolate(method='linear',limit_direction=\"both\")\n",
    "        # need to specify limit direction otherwise it can't interpolate backwards to values at start of series if missing\n",
    "        df.update(group[\"Common Shares Outstanding\"]) #updates based on column name and index\n",
    "        \n",
    "    i+=1\n",
    "    print(i,\"/\",length)\n",
    "        \n",
    "# I don't interpolate gaps in price because it was likely that the stock underwent some sort of fundamental change\n",
    "# effectively can treat as a different security once it relists\n",
    "# but gaps in common shares outstanding can be interpolated\n",
    "df[\"Market Cap\"] = df[\"Price\"]*df[\"Common Shares Outstanding\"]\n",
    "df = df.reset_index(drop=True)"
   ]
  },
  {
   "cell_type": "code",
   "execution_count": 75,
   "id": "616559ab",
   "metadata": {},
   "outputs": [
    {
     "data": {
      "text/plain": [
       "10557"
      ]
     },
     "execution_count": 75,
     "metadata": {},
     "output_type": "execute_result"
    }
   ],
   "source": [
    "len(df[\"LPERMNO\"].unique())"
   ]
  },
  {
   "cell_type": "code",
   "execution_count": 8,
   "id": "64f2f9d7",
   "metadata": {},
   "outputs": [],
   "source": [
    "df.to_csv(\"fcfe1_check.csv\",index=False)\n",
    "# df.to_csv(\"compustat cleaned base.csv\",index=False) #basically compustat cleaned v2 but with market cap "
   ]
  }
 ],
 "metadata": {
  "kernelspec": {
   "display_name": "Python 3 (ipykernel)",
   "language": "python",
   "name": "python3"
  },
  "language_info": {
   "codemirror_mode": {
    "name": "ipython",
    "version": 3
   },
   "file_extension": ".py",
   "mimetype": "text/x-python",
   "name": "python",
   "nbconvert_exporter": "python",
   "pygments_lexer": "ipython3",
   "version": "3.9.12"
  }
 },
 "nbformat": 4,
 "nbformat_minor": 5
}
