{
 "cells": [
  {
   "cell_type": "code",
   "execution_count": 17,
   "id": "0bbab282",
   "metadata": {},
   "outputs": [],
   "source": [
    "import pandas as pd\n",
    "from IPython.display import clear_output"
   ]
  },
  {
   "cell_type": "markdown",
   "id": "d827279d",
   "metadata": {},
   "source": [
    "The purpose here is to calculate market cap with somewhat clean data but net income empty rows haven't been removed."
   ]
  },
  {
   "cell_type": "code",
   "execution_count": 8,
   "id": "025accd6",
   "metadata": {},
   "outputs": [],
   "source": [
    "# raw dataset\n",
    "df4 = pd.read_csv(r\"compustat data v4.csv\")\n",
    "df4 = df4.rename(columns={\"datadate\": \"Date\",\n",
    "                            \"tic\":\"Ticker\",\"conm\":\"Company\", \"datacqtr\":\"Calendar Quarter\",\"datafqtr\":\"Fiscal Quarter\", \n",
    "                            \"actq\":\"Current Assets\",\"dpq\":\"Depreciation and Amortisation\",\n",
    "                            \"lctq\":\"Current Liabilities\",\"wcapq\":\"Working Capital\",\n",
    "                            \"ggroup\":\"Group\",\"gind\":\"Industry\",\"gsector\":\"Sector\",\"gsubind\":\"Subindustry\",\n",
    "                            \"cshopq\":\"Total Shares Repurchased\", \"cshoq\":\"Common Shares Outstanding\",\n",
    "                            \"dlcq\":\"Debt in Current Liabilities\",\"dlttq\":\"Total Long Term Debt\",\n",
    "                            \"niq\":\"Net Income\",\"dltisy\":\"Long Term Debt Issuance YTD\",\n",
    "                            \"dltry\":\"Long Term Debt Reduction YTD\",\n",
    "                            \"aqcy\":\"Acquisitions YTD\",\"capxy\": \"Capital Expenditures YTD\",\n",
    "                            \"dvpq\":\"Preferred Dividends\", \"saleq\":\"Sales\", \"ceqq\":\"Book Value\",# i.e. common equity\n",
    "                            \"xrdq\":\"R&D Expenses\",\n",
    "                            \"cheq\":\"Cash and Short Term Investments\",\n",
    "                            \"cshtrq\":\"Common Shares Traded\",\n",
    "                            \"dvpsxq\":\"Dividends per Share Ex-date\",\"prccq\":\"Price\"})\n",
    "df4 = df4[df4[\"Price\"].notna()]\n",
    "df4[\"Date\"]=pd.to_datetime(df4[\"Date\"], format='%Y%m%d')\n",
    "columns = list(df4.columns)\n",
    "columns.remove(\"Date\")\n",
    "columns.remove(\"Calendar Quarter\")\n",
    "columns.remove(\"Price\")\n",
    "columns.remove(\"LPERMNO\")\n",
    "columns.remove(\"Common Shares Outstanding\")\n",
    "df4.drop(columns=columns,inplace = True)"
   ]
  },
  {
   "cell_type": "code",
   "execution_count": 10,
   "id": "370fa91b",
   "metadata": {},
   "outputs": [],
   "source": [
    "df4 = df4.drop_duplicates(subset = [\"LPERMNO\",\"Calendar Quarter\"], keep =\"last\")\n",
    "df4 = df4.drop_duplicates(subset = [\"LPERMNO\",\"Date\"], keep =\"last\").reset_index(drop = True)"
   ]
  },
  {
   "cell_type": "code",
   "execution_count": null,
   "id": "5616b0e9",
   "metadata": {},
   "outputs": [],
   "source": [
    "df4[\"Adjusted Date\"] = pd.to_datetime(df4[\"Calendar Quarter\"])+pd.tseries.offsets.QuarterEnd(0)\n",
    "\n",
    "df4.loc[df4[\"Calendar Quarter\"].isna(),\"Adjusted Date\"]= df4[\"Date\"] + pd.tseries.offsets.QuarterEnd(0)\n",
    "df4 = df4.drop_duplicates(subset = [\"LPERMNO\",\"Adjusted Date\"], keep =\"last\")\n",
    "df4[\"Date\"]= df4[\"Adjusted Date\"]\n",
    "df4.drop(columns=[\"Adjusted Date\"],inplace = True)"
   ]
  },
  {
   "cell_type": "code",
   "execution_count": 16,
   "id": "e2641f68",
   "metadata": {},
   "outputs": [],
   "source": [
    "df2 = pd.read_csv(r\"C:\\Users\\Administrator.LAPTOP-3KUBTES6\\Documents\\Dissertation Sandbox v4\\crsp data.csv\")\n",
    "df2 = df2.rename(columns={\"date\": \"Date\", \"EXCHCD\": \"Exchange Code\",\n",
    "                          \"TICKER\":\"Ticker\",\"COMNAM\":\"Company\",\n",
    "                          \"DIVAMT\":\"Dividend\",\"PRC\":\"Price\",\"VOL\":\"Volume\",\"SHROUT\":\"Shares Outstanding\"\n",
    "                         })\n",
    "df2 = df2[df2[\"Price\"].notna()]\n",
    "df2 = df2[df2[\"Exchange Code\"]==3]\n",
    "df2[\"Dividend\"] = df2[\"Dividend\"].fillna(0)\n",
    "# CRSP's hyphenated price values means there was no close price, but instead a bid/ask average.\n",
    "df2[\"Price\"]= df2[\"Price\"].abs()\n",
    "\n",
    "df2[\"Date\"]=pd.to_datetime(df2[\"Date\"], format='%Y%m%d', errors='ignore')\n",
    "\n",
    "df2= df2.sort_values(by=['PERMNO','Date','Dividend']) \n",
    "# things are mostly ordered, but I want to sort by dividend too in order to drop duplicates and keep the largest dividend entry.\n",
    "\n",
    "df2 = df2.drop_duplicates(subset = [\"PERMNO\",\"Date\"], keep =\"last\").reset_index(drop = True)"
   ]
  },
  {
   "cell_type": "code",
   "execution_count": 18,
   "id": "4deb8560",
   "metadata": {},
   "outputs": [
    {
     "name": "stdout",
     "output_type": "stream",
     "text": [
      "14006 / 14006\n"
     ]
    }
   ],
   "source": [
    "j = 0\n",
    "length = len(df4[\"LPERMNO\"].unique())\n",
    "\n",
    "df4[\"Exchange Check\"] = 0\n",
    "\n",
    "for permno, group in df4.groupby(\"LPERMNO\"):\n",
    "    clear_output(wait=True)\n",
    "    match = df2[df2[\"PERMNO\"]==permno]\n",
    "    firstdate = match[\"Date\"].iloc[0]\n",
    "    lastdate = match[\"Date\"].iloc[-1]\n",
    "    # aim here is to remove all observations that weren't when the stock was listed on the NASDAQ\n",
    "    df4.loc[(df4.LPERMNO ==permno) & (df4.Date < firstdate),\"Exchange Check\"] = 1\n",
    "    df4.loc[(df4.LPERMNO ==permno) & (df4.Date > lastdate),\"Exchange Check\"]=1 # these are the observations I want to drop!\n",
    "    # this is much quicker than dropping observations in place\n",
    "    j+=1\n",
    "    print(j,\"/\",length)\n",
    "    \n",
    "df4 = df4[df4[\"Exchange Check\"]==0].reset_index(drop = True)\n",
    "    \n",
    "df4.drop(\"Exchange Check\",axis=1,inplace=True)\n"
   ]
  },
  {
   "cell_type": "code",
   "execution_count": 20,
   "id": "0f4d339b",
   "metadata": {},
   "outputs": [],
   "source": [
    "# 426000 rows get cut down to 360000 after checking exchanges"
   ]
  },
  {
   "cell_type": "code",
   "execution_count": 21,
   "id": "b0100623",
   "metadata": {},
   "outputs": [
    {
     "name": "stdout",
     "output_type": "stream",
     "text": [
      "13974 / 13974\n"
     ]
    }
   ],
   "source": [
    "i = 0\n",
    "length = len(df4[\"LPERMNO\"].unique())\n",
    "for permno, group in df4.groupby(\"LPERMNO\"):\n",
    "    \n",
    "    clear_output(wait=True)\n",
    "    \n",
    "    if (group[\"Common Shares Outstanding\"].isna()).all():\n",
    "        df4.drop(group.index, inplace= True)\n",
    "    elif (group[\"Common Shares Outstanding\"].notna()).all():\n",
    "        pass\n",
    "    else:\n",
    "        group[\"Common Shares Outstanding\"] = group[\"Common Shares Outstanding\"].interpolate(method='linear',limit_direction=\"both\")\n",
    "        # need to specify limit direction otherwise it can't interpolate backwards to values at start of series if missing\n",
    "        df4.update(group[\"Common Shares Outstanding\"]) # updates based on column name and index\n",
    "        \n",
    "    i+=1\n",
    "    print(i,\"/\",length)\n",
    "        \n",
    "# I don't interpolate gaps in price because it was likely that the stock underwent some sort of fundamental change\n",
    "# effectively can treat as a different security once it relists\n",
    "# but gaps in common shares outstanding can be interpolated\n",
    "df4[\"Market Cap\"] = df4[\"Price\"]*df4[\"Common Shares Outstanding\"]\n",
    "df4 = df4.reset_index(drop=True)"
   ]
  },
  {
   "cell_type": "code",
   "execution_count": 23,
   "id": "ecb2286b",
   "metadata": {},
   "outputs": [],
   "source": [
    "df4.to_csv(\"compustat cleaned raw.csv\")"
   ]
  }
 ],
 "metadata": {
  "kernelspec": {
   "display_name": "Python 3 (ipykernel)",
   "language": "python",
   "name": "python3"
  },
  "language_info": {
   "codemirror_mode": {
    "name": "ipython",
    "version": 3
   },
   "file_extension": ".py",
   "mimetype": "text/x-python",
   "name": "python",
   "nbconvert_exporter": "python",
   "pygments_lexer": "ipython3",
   "version": "3.9.12"
  }
 },
 "nbformat": 4,
 "nbformat_minor": 5
}
